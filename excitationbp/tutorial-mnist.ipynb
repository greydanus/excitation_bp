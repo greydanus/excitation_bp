{
 "cells": [
  {
   "cell_type": "markdown",
   "metadata": {},
   "source": [
    "# Excitation Backprop Tutorial: MNIST Classification\n",
    "\n",
    "Sam Greydanus. March 2018. MIT License.\n",
    "\n",
    "In this notebook, we'll use excitation backprop (EB) to explore a simple linear MNIST model.\n",
    "\n",
    "For an in-depth explanation of EB, refer to [this paper](https://arxiv.org/abs/1608.00507). The [original code](https://github.com/jimmie33/Caffe-ExcitationBP) is in Caffe."
   ]
  },
  {
   "cell_type": "code",
   "execution_count": 1,
   "metadata": {
    "collapsed": true
   },
   "outputs": [],
   "source": [
    "import torch\n",
    "import torch.nn as nn\n",
    "import torch.nn.functional as F\n",
    "from torch.autograd import Function, Variable\n",
    "from torchvision import datasets, models, transforms, utils\n",
    "\n",
    "import numpy as np\n",
    "import matplotlib.pyplot as plt\n",
    "\n",
    "import os, sys, copy ; sys.path.append('..')\n",
    "import excitationbp as eb\n",
    "\n",
    "reseed = lambda: np.random.seed(seed=1) ; ms = torch.manual_seed(1) # for reproducibility\n",
    "reseed()"
   ]
  },
  {
   "cell_type": "markdown",
   "metadata": {},
   "source": [
    "### 1) Make a dataloader for the MNIST dataset\n",
    "\n",
    "We'll just wrap the built-in Torch utility. Add lots of noise."
   ]
  },
  {
   "cell_type": "code",
   "execution_count": 2,
   "metadata": {
    "collapsed": true
   },
   "outputs": [],
   "source": [
    "# data loader\n",
    "class Dataloader():\n",
    "    def __init__(self, batch_size):\n",
    "        self.batch_size = batch_size\n",
    "        self.modes = modes = ['train', 'test']\n",
    "        trans = transforms.Compose([transforms.ToTensor(),]) # transforms.Normalize((0.1307,), (0.3081,))\n",
    "        dsets = {k: datasets.MNIST('./data', train=k=='train', download=True, transform=trans) for k in modes}\n",
    "        self.loaders = {k: torch.utils.data.DataLoader(dsets[k], batch_size=batch_size, shuffle=True) for k in modes}\n",
    "\n",
    "    def next(self, mode='train',sigma=0.8):\n",
    "        X, y = next(iter(self.loaders[mode]))\n",
    "        return Variable(X + sigma*torch.rand(X.shape)).view(self.batch_size, -1), Variable(y)\n",
    "\n",
    "def accuracy(model, dataloader, mode='test'):\n",
    "    correct = 0\n",
    "    nbatches = int(10000/dataloader.batch_size)\n",
    "    for _ in range(nbatches):\n",
    "        X, y = dataloader.next(mode)\n",
    "        pred = model(X).data.max(1)[1]\n",
    "        correct += pred.eq(y.data).sum()\n",
    "    return 100*correct/(dataloader.batch_size*nbatches)"
   ]
  },
  {
   "cell_type": "markdown",
   "metadata": {},
   "source": [
    "### 2) Define the model"
   ]
  },
  {
   "cell_type": "code",
   "execution_count": 3,
   "metadata": {
    "collapsed": true
   },
   "outputs": [],
   "source": [
    "class MnistClassifier(nn.Module):\n",
    "    def __init__(self, hdim=200):\n",
    "        super(MnistClassifier, self).__init__()\n",
    "        self.linear1 = nn.Linear(28**2, hdim)\n",
    "        self.linear2 = nn.Linear(hdim, hdim)\n",
    "        self.linear3 = nn.Linear(hdim, 10)\n",
    "\n",
    "    def forward(self, x):\n",
    "        activations = []\n",
    "        h1 = F.relu(self.linear1(x))\n",
    "        h2 = F.relu(self.linear2(h1))\n",
    "        h3 = self.linear3(h2)\n",
    "        return h3"
   ]
  },
  {
   "cell_type": "markdown",
   "metadata": {},
   "source": [
    "### 3) Train the model"
   ]
  },
  {
   "cell_type": "code",
   "execution_count": 4,
   "metadata": {},
   "outputs": [
    {
     "name": "stdout",
     "output_type": "stream",
     "text": [
      "Downloading http://yann.lecun.com/exdb/mnist/train-images-idx3-ubyte.gz\n",
      "Downloading http://yann.lecun.com/exdb/mnist/train-labels-idx1-ubyte.gz\n",
      "Downloading http://yann.lecun.com/exdb/mnist/t10k-images-idx3-ubyte.gz\n",
      "Downloading http://yann.lecun.com/exdb/mnist/t10k-labels-idx1-ubyte.gz\n",
      "Processing...\n",
      "Done!\n",
      "\tstep 2000/2000 | accuracy: 95.7131% | loss: 0.1196\r"
     ]
    }
   ],
   "source": [
    "model = MnistClassifier(hdim=128)\n",
    "optimizer = torch.optim.Adam(model.parameters(), lr=3e-3)\n",
    "dataloader = Dataloader(256)\n",
    "\n",
    "global_step = 0 ; total_steps = 2000 ; test_every = int(total_steps/20)\n",
    "running_loss = None ; acc_msg = '...'\n",
    "loss_hist, acc_hist = [], []\n",
    "\n",
    "# generic train loop\n",
    "for global_step in range(global_step, total_steps+global_step+1):\n",
    "\n",
    "    # ======== DISCRIMINATOR STEP ======== #\n",
    "    X, y = dataloader.next()\n",
    "    logits = model(X)\n",
    "    y_hat = F.log_softmax(logits, dim=-1)\n",
    "    loss = F.nll_loss(y_hat, y)\n",
    "    loss.backward() ; optimizer.step() ; optimizer.zero_grad()\n",
    "\n",
    "    np_loss = loss.data.numpy()\n",
    "    running_loss = np_loss if running_loss is None else .99*running_loss + (1-.99)*np_loss\n",
    "    loss_hist.append(running_loss)\n",
    "\n",
    "    # ======== DISPLAY PROGRESS ======== #\n",
    "    print('\\tstep {}/{} | {} | loss: {:.4f}'.format(global_step, total_steps, acc_msg, running_loss), end=\"\\r\")\n",
    "    if global_step % test_every == 0:\n",
    "        a = accuracy(model, dataloader, mode='test')\n",
    "        acc_hist.append(a) ; acc_msg = 'accuracy: {:.4f}%'.format(a)"
   ]
  },
  {
   "cell_type": "markdown",
   "metadata": {},
   "source": [
    "### 4) Extend Torch's autograd functions to support Excitation Backprop (EB)\n",
    "\n",
    "Refer to **Alg. 1** in the original paper. The relevant (general) equation is:\n",
    "\n",
    "$$ P_n = A_n \\odot W^+ \\left(\\frac{P_{n-1}}{W^{+T}A_n}\\right) $$\n",
    "    \n",
    "We only need to do this to the Linear function for the model we just trained. Other functions that need this extension include:\n",
    " * any convolutional function\n",
    " * average pooling\n",
    " * any pointwise function that has a min value less than 0\n",
    "     * these must have their min values subtracted from their outputs"
   ]
  },
  {
   "cell_type": "code",
   "execution_count": 5,
   "metadata": {},
   "outputs": [
    {
     "name": "stdout",
     "output_type": "stream",
     "text": [
      "using excitation backprop autograd mode:\n",
      "\t->replacing torch.nn.functional.linear with eb_linear...\n",
      "\t->replacing torch.nn.functional.conv{1,2,3}d with eb_conv{1,2,3}d...\n",
      "\t->replacing torch.nn.functional.avg_pool2d with eb_avg_pool2d...\n"
     ]
    }
   ],
   "source": [
    "eb.use_eb(True)"
   ]
  },
  {
   "cell_type": "markdown",
   "metadata": {},
   "source": [
    "### 5) Excitation Backprop (EB)"
   ]
  },
  {
   "cell_type": "code",
   "execution_count": 10,
   "metadata": {
    "collapsed": true
   },
   "outputs": [],
   "source": [
    "class_labels = ['zero', 'one', 'two', 'three', 'four', 'five', 'six', 'seven', 'eight', 'nine']\n",
    "X, y = dataloader.next(mode='test')\n",
    "inputs = inputs = X[0:1,:]\n",
    "\n",
    "# compute excitation backprop for correct label\n",
    "one_id = 1\n",
    "true_id = y.data[0]\n",
    "prob_outputs_one = Variable(torch.zeros(1,10)) ; prob_outputs_one.data[:,one_id] += 1\n",
    "prob_outputs_true = Variable(torch.zeros(1,10)) ; prob_outputs_true.data[:,true_id] += 1\n",
    "\n",
    "prob_inputs_one = eb.excitation_backprop(model, inputs, prob_outputs_one, contrastive=False)\n",
    "prob_inputs_true = eb.excitation_backprop(model, inputs, prob_outputs_true, contrastive=False)"
   ]
  },
  {
   "cell_type": "code",
   "execution_count": 11,
   "metadata": {},
   "outputs": [
    {
     "data": {
      "image/png": "[encoded data removed]",
      "text/plain": [
       "<matplotlib.figure.Figure at 0x112e7e518>"
      ]
     },
     "metadata": {},
     "output_type": "display_data"
    }
   ],
   "source": [
    "beta = 0.5 # adjust the 'peakiness' of data\n",
    "one_img = prob_inputs_one.view(28,28).data.numpy()\n",
    "true_img = prob_inputs_true.view(28,28).data.numpy()\n",
    "\n",
    "# visualize\n",
    "s = 3\n",
    "f = plt.figure(figsize=[s*3,s])\n",
    "plt.subplot(1,3,1)\n",
    "plt.title('Input image')\n",
    "plt.imshow(inputs.data.view(28,28).numpy(), cmap='gray')\n",
    "\n",
    "plt.subplot(1,3,2)\n",
    "plt.title('EB: \"{}\"'.format(class_labels[one_id][:15]))\n",
    "plt.imshow(one_img, cmap='gray')\n",
    "\n",
    "plt.subplot(1,3,3)\n",
    "plt.title('EB: \"{}\"'.format(class_labels[true_id][:15]))\n",
    "plt.imshow(true_img, cmap='gray')\n",
    "plt.show() ; f.savefig('figures/mnist-eb.png', bbox_inches='tight')"
   ]
  },
  {
   "cell_type": "markdown",
   "metadata": {},
   "source": [
    "### 6) Contrastive Excitation Backprop (c-EB)"
   ]
  },
  {
   "cell_type": "code",
   "execution_count": 12,
   "metadata": {
    "collapsed": true
   },
   "outputs": [],
   "source": [
    "prob_inputs_one = eb.excitation_backprop(model, inputs, prob_outputs_one, contrastive=True)\n",
    "prob_inputs_true = eb.excitation_backprop(model, inputs, prob_outputs_true, contrastive=True)"
   ]
  },
  {
   "cell_type": "code",
   "execution_count": 14,
   "metadata": {},
   "outputs": [
    {
     "data": {
      "image/png": "[encoded data removed]",
      "text/plain": [
       "<matplotlib.figure.Figure at 0x11518e518>"
      ]
     },
     "metadata": {},
     "output_type": "display_data"
    }
   ],
   "source": [
    "beta = 0.5 # adjust the 'peakiness' of data\n",
    "one_img = prob_inputs_one.clamp(min=0).view(28,28).data.numpy()\n",
    "true_img = prob_inputs_true.clamp(min=0).view(28,28).data.numpy()\n",
    "\n",
    "# visualize\n",
    "s = 3\n",
    "f = plt.figure(figsize=[s*3,s])\n",
    "plt.subplot(1,3,1)\n",
    "plt.title('Input image')\n",
    "plt.imshow(inputs.data.view(28,28).numpy(), cmap='gray')\n",
    "\n",
    "plt.subplot(1,3,2)\n",
    "plt.title('c-EB: \"{}\"'.format(class_labels[one_id][:15]))\n",
    "plt.imshow(one_img, cmap='gray')\n",
    "\n",
    "plt.subplot(1,3,3)\n",
    "plt.title('c-EB: \"{}\"'.format(class_labels[true_id][:15]))\n",
    "plt.imshow(true_img, cmap='gray')\n",
    "plt.show() ; f.savefig('figures/mnist-ceb.png', bbox_inches='tight')"
   ]
  },
  {
   "cell_type": "code",
   "execution_count": null,
   "metadata": {
    "collapsed": true
   },
   "outputs": [],
   "source": []
  }
 ],
 "metadata": {
  "kernelspec": {
   "display_name": "Python 3",
   "language": "python",
   "name": "python3"
  },
  "language_info": {
   "codemirror_mode": {
    "name": "ipython",
    "version": 3
   },
   "file_extension": ".py",
   "mimetype": "text/x-python",
   "name": "python",
   "nbconvert_exporter": "python",
   "pygments_lexer": "ipython3",
   "version": "3.6.1"
  }
 },
 "nbformat": 4,
 "nbformat_minor": 2
}
